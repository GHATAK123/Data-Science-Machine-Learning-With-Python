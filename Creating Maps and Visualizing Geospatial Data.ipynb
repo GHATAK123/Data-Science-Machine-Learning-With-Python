{
 "cells": [
  {
   "cell_type": "markdown",
   "metadata": {},
   "source": [
    "<h1 align=center><font size = 5>Generating Maps with Python</font></h1>"
   ]
  },
  {
   "cell_type": "code",
   "execution_count": 1,
   "metadata": {},
   "outputs": [],
   "source": [
    "import numpy as np  # useful for many scientific computing in Python\n",
    "import pandas as pd # primary data structure library"
   ]
  },
  {
   "cell_type": "markdown",
   "metadata": {},
   "source": [
    "Folium is a powerful Python library that helps you create several types of Leaflet maps. The fact that the Folium results are interactive makes this library very useful for dashboard building.\n",
    "\n",
    "From the official Folium documentation page:\n",
    "\n",
    "> Folium builds on the data wrangling strengths of the Python ecosystem and the mapping strengths of the Leaflet.js library. Manipulate your data in Python, then visualize it in on a Leaflet map via Folium.\n",
    "\n",
    "> Folium makes it easy to visualize data that's been manipulated in Python on an interactive Leaflet map. It enables both the binding of data to a map for choropleth visualizations as well as passing Vincent/Vega visualizations as markers on the map.\n",
    "\n",
    "> The library has a number of built-in tilesets from OpenStreetMap, Mapbox, and Stamen, and supports custom tilesets with Mapbox or Cloudmade API keys. Folium supports both GeoJSON and TopoJSON overlays, as well as the binding of data to those overlays to create choropleth maps with color-brewer color schemes."
   ]
  },
  {
   "cell_type": "code",
   "execution_count": 2,
   "metadata": {},
   "outputs": [
    {
     "name": "stdout",
     "output_type": "stream",
     "text": [
      "[[ 0  1  2  3]\n",
      " [ 4  5  6  7]\n",
      " [ 8  9 10 11]\n",
      " [12 13 14 15]\n",
      " [16 17 18 19]\n",
      " [20 21 22 23]\n",
      " [24 25 26 27]\n",
      " [28 29 30 31]\n",
      " [32 33 34 35]\n",
      " [36 37 38 39]\n",
      " [40 41 42 43]\n",
      " [44 45 46 47]\n",
      " [48 49 50 51]\n",
      " [52 53 54 55]\n",
      " [56 57 58 59]\n",
      " [60 61 62 63]\n",
      " [64 65 66 67]\n",
      " [68 69 70 71]\n",
      " [72 73 74 75]\n",
      " [76 77 78 79]\n",
      " [80 81 82 83]\n",
      " [84 85 86 87]\n",
      " [88 89 90 91]\n",
      " [92 93 94 95]\n",
      " [96 97 98 99]]\n",
      "None\n",
      "[[ 0.  1.  2.  3.]\n",
      " [ 4.  5.  6.  7.]\n",
      " [ 8.  9. 10. 11.]\n",
      " [12. 13. 14. 15.]\n",
      " [16. 17. 18. 19.]\n",
      " [20. 21. 22. 23.]\n",
      " [24. 25. 26. 27.]\n",
      " [28. 29. 30. 31.]\n",
      " [32. 33. 34. 35.]\n",
      " [36. 37. 38. 39.]\n",
      " [40. 41. 42. 43.]\n",
      " [44. 45. 46. 47.]\n",
      " [48. 49. 50. 51.]\n",
      " [52. 53. 54. 55.]\n",
      " [56. 57. 58. 59.]\n",
      " [60. 61. 62. 63.]\n",
      " [64. 65. 66. 67.]\n",
      " [68. 69. 70. 71.]\n",
      " [72. 73. 74. 75.]\n",
      " [76. 77. 78. 79.]\n",
      " [80. 81. 82. 83.]\n",
      " [84. 85. 86. 87.]\n",
      " [88. 89. 90. 91.]\n",
      " [92. 93. 94. 95.]\n",
      " [96. 97. 98. 99.]]\n",
      "Note: you may need to restart the kernel to use updated packages.\n"
     ]
    },
    {
     "name": "stderr",
     "output_type": "stream",
     "text": [
      "Traceback (most recent call last):\n",
      "  File \"c:\\users\\ppa58\\appdata\\local\\programs\\python\\python36\\lib\\runpy.py\", line 193, in _run_module_as_main\n",
      "    \"__main__\", mod_spec)\n",
      "  File \"c:\\users\\ppa58\\appdata\\local\\programs\\python\\python36\\lib\\runpy.py\", line 85, in _run_code\n",
      "    exec(code, run_globals)\n",
      "  File \"c:\\users\\ppa58\\appdata\\local\\programs\\python\\python36\\lib\\site-packages\\pip\\__main__.py\", line 16, in <module>\n",
      "    from pip._internal import main as _main  # isort:skip # noqa\n",
      "  File \"c:\\users\\ppa58\\appdata\\local\\programs\\python\\python36\\lib\\site-packages\\pip\\_internal\\__init__.py\", line 40, in <module>\n",
      "    from pip._internal.cli.autocompletion import autocomplete\n",
      "  File \"c:\\users\\ppa58\\appdata\\local\\programs\\python\\python36\\lib\\site-packages\\pip\\_internal\\cli\\autocompletion.py\", line 8, in <module>\n",
      "    from pip._internal.cli.main_parser import create_main_parser\n",
      "  File \"c:\\users\\ppa58\\appdata\\local\\programs\\python\\python36\\lib\\site-packages\\pip\\_internal\\cli\\main_parser.py\", line 12, in <module>\n",
      "    from pip._internal.commands import (\n",
      "  File \"c:\\users\\ppa58\\appdata\\local\\programs\\python\\python36\\lib\\site-packages\\pip\\_internal\\commands\\__init__.py\", line 6, in <module>\n",
      "    from pip._internal.commands.completion import CompletionCommand\n",
      "  File \"c:\\users\\ppa58\\appdata\\local\\programs\\python\\python36\\lib\\site-packages\\pip\\_internal\\commands\\completion.py\", line 6, in <module>\n",
      "    from pip._internal.cli.base_command import Command\n",
      "  File \"c:\\users\\ppa58\\appdata\\local\\programs\\python\\python36\\lib\\site-packages\\pip\\_internal\\cli\\base_command.py\", line 20, in <module>\n",
      "    from pip._internal.download import PipSession\n",
      "  File \"c:\\users\\ppa58\\appdata\\local\\programs\\python\\python36\\lib\\site-packages\\pip\\_internal\\download.py\", line 3, in <module>\n",
      "    import cgi\n",
      "  File \"c:\\users\\ppa58\\appdata\\local\\programs\\python\\python36\\lib\\cgi.py\", line 42, in <module>\n",
      "    import html\n",
      "  File \"C:\\Users\\ppa58\\Documents\\Datascience\\html.py\", line 1, in <module>\n",
      "    import pandas as pd\n",
      "  File \"c:\\users\\ppa58\\appdata\\local\\programs\\python\\python36\\lib\\site-packages\\pandas\\__init__.py\", line 42, in <module>\n",
      "    from pandas.core.api import *\n",
      "  File \"c:\\users\\ppa58\\appdata\\local\\programs\\python\\python36\\lib\\site-packages\\pandas\\core\\api.py\", line 26, in <module>\n",
      "    from pandas.core.groupby import Grouper\n",
      "  File \"c:\\users\\ppa58\\appdata\\local\\programs\\python\\python36\\lib\\site-packages\\pandas\\core\\groupby\\__init__.py\", line 1, in <module>\n",
      "    from pandas.core.groupby.groupby import GroupBy  # noqa: F401\n",
      "  File \"c:\\users\\ppa58\\appdata\\local\\programs\\python\\python36\\lib\\site-packages\\pandas\\core\\groupby\\groupby.py\", line 37, in <module>\n",
      "    from pandas.core.frame import DataFrame\n",
      "  File \"c:\\users\\ppa58\\appdata\\local\\programs\\python\\python36\\lib\\site-packages\\pandas\\core\\frame.py\", line 87, in <module>\n",
      "    from pandas.core.generic import NDFrame, _shared_docs\n",
      "  File \"c:\\users\\ppa58\\appdata\\local\\programs\\python\\python36\\lib\\site-packages\\pandas\\core\\generic.py\", line 49, in <module>\n",
      "    from pandas.io.formats.format import DataFrameFormatter, format_percentiles\n",
      "  File \"c:\\users\\ppa58\\appdata\\local\\programs\\python\\python36\\lib\\site-packages\\pandas\\io\\formats\\format.py\", line 34, in <module>\n",
      "    from pandas.io.common import _expand_user, _stringify_path\n",
      "  File \"c:\\users\\ppa58\\appdata\\local\\programs\\python\\python36\\lib\\site-packages\\pandas\\io\\common.py\", line 540, in <module>\n",
      "    def UnicodeReader(f, dialect=csv.excel, encoding=\"utf-8\", **kwds):\n",
      "AttributeError: module 'csv' has no attribute 'excel'\n"
     ]
    }
   ],
   "source": [
    "pip install folium"
   ]
  },
  {
   "cell_type": "code",
   "execution_count": null,
   "metadata": {},
   "outputs": [],
   "source": []
  }
 ],
 "metadata": {
  "kernelspec": {
   "display_name": "Python 3",
   "language": "python",
   "name": "python3"
  },
  "language_info": {
   "codemirror_mode": {
    "name": "ipython",
    "version": 3
   },
   "file_extension": ".py",
   "mimetype": "text/x-python",
   "name": "python",
   "nbconvert_exporter": "python",
   "pygments_lexer": "ipython3",
   "version": "3.6.3"
  }
 },
 "nbformat": 4,
 "nbformat_minor": 2
}
